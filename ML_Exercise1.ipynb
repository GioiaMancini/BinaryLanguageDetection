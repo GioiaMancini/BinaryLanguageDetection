{
  "cells": [
    {
      "cell_type": "markdown",
      "metadata": {
        "id": "x4Q3Yt9ykX27"
      },
      "source": [
        "# Binary Language Detection - Translated Assessment - Exercise 1"
      ]
    },
    {
      "attachments": {},
      "cell_type": "markdown",
      "metadata": {
        "id": "c8saYIZDkilT"
      },
      "source": [
        "## Usage: Colab\n",
        "In order to use this notebook, the Language Detection Dataset from Kaggle is required. \n",
        "You can either download it directly from Kaggle at https://www.kaggle.com/datasets/basilb2s/language-detection, after logging in, or download it through the next code block by using a Kaggle API token."
      ]
    },
    {
      "attachments": {},
      "cell_type": "markdown",
      "metadata": {
        "id": "96DMGCHOkaWL"
      },
      "source": [
        "### 1. Download the dataset from the website, upload it to your Google Drive, mount it into this notebook."
      ]
    },
    {
      "cell_type": "code",
      "execution_count": null,
      "metadata": {
        "colab": {
          "base_uri": "https://localhost:8080/"
        },
        "id": "ogYxgszzkT3i",
        "outputId": "132dac71-f6ba-4623-c373-593e486b7963"
      },
      "outputs": [],
      "source": [
        "from google.colab import drive\n",
        "drive.mount('/content/drive')"
      ]
    },
    {
      "cell_type": "code",
      "execution_count": null,
      "metadata": {
        "id": "IBeNXBa-lvUN"
      },
      "outputs": [],
      "source": [
        "# modify this data path\n",
        "data_path = '/content/drive/My Drive/Datasets/Language Detection.csv'"
      ]
    },
    {
      "cell_type": "markdown",
      "metadata": {
        "id": "qjyBS9nRmAhi"
      },
      "source": [
        "### 2. Donwload the dataset through a Kaggle API token.\n",
        "First, you need to upload your kaggle.json file into the root of your drive. Then, execute the cells below (for more details please refer to the readme.me in GitHub repository).\n"
      ]
    },
    {
      "cell_type": "code",
      "execution_count": null,
      "metadata": {
        "colab": {
          "base_uri": "https://localhost:8080/"
        },
        "id": "7mXo0OQ5mOwk",
        "outputId": "21dfd437-8180-49bf-d1d4-10d96c6f419a"
      },
      "outputs": [],
      "source": [
        "!pip install kaggle"
      ]
    },
    {
      "cell_type": "code",
      "execution_count": null,
      "metadata": {
        "id": "wVO4U5srmQ6Q"
      },
      "outputs": [],
      "source": [
        "!mkdir -p /root/.kaggle\n",
        "!cp '/content/drive/My Drive/kaggle.json' /root/.kaggle/"
      ]
    },
    {
      "cell_type": "code",
      "execution_count": null,
      "metadata": {
        "id": "kZ7Sv33amkpI"
      },
      "outputs": [],
      "source": [
        "# Move to the directory in which you want to download the dataset\n",
        "%cd /content/drive/MyDrive/Datasets"
      ]
    },
    {
      "cell_type": "code",
      "execution_count": null,
      "metadata": {
        "id": "NBx9_gBTmnv8"
      },
      "outputs": [],
      "source": [
        "# Download the dataset and unzip it\n",
        "!kaggle datasets download -d basilb2s/language-detection\n",
        "!unzip language-detection.zip"
      ]
    },
    {
      "cell_type": "code",
      "execution_count": null,
      "metadata": {},
      "outputs": [],
      "source": [
        "# modify this data path\n",
        "data_path = '/content/drive/My Drive/Datasets/Language Detection.csv'"
      ]
    },
    {
      "attachments": {},
      "cell_type": "markdown",
      "metadata": {},
      "source": [
        "## Usage: local\n",
        "### Download the dataset from Kaggle, unzip it and move it to your desired directory."
      ]
    },
    {
      "cell_type": "code",
      "execution_count": 1,
      "metadata": {},
      "outputs": [],
      "source": [
        "# modify this data path\n",
        "data_path = 'C:/var/Datasets/Language Detection.csv'"
      ]
    },
    {
      "cell_type": "markdown",
      "metadata": {
        "id": "OhbNaQy0mwa8"
      },
      "source": [
        "### Import libraries and useful dependencies"
      ]
    },
    {
      "cell_type": "code",
      "execution_count": 2,
      "metadata": {
        "id": "rUQVwbzbm3s4"
      },
      "outputs": [],
      "source": [
        "# Data manipulation and analysis\n",
        "import numpy as np\n",
        "import pandas as pd\n",
        "\n",
        "# Save models\n",
        "import datetime\n",
        "import pickle\n",
        "\n",
        "# Data visualization\n",
        "import matplotlib.pyplot as plt\n",
        "import seaborn as sns\n",
        "\n",
        "# Text processing and machine learning\n",
        "import re\n",
        "from sklearn.model_selection import train_test_split\n",
        "from sklearn.model_selection import GridSearchCV\n",
        "from sklearn.pipeline import Pipeline\n",
        "from sklearn.naive_bayes import MultinomialNB\n",
        "from sklearn.linear_model import SGDClassifier\n",
        "from sklearn.ensemble import RandomForestClassifier\n",
        "from sklearn.tree import DecisionTreeClassifier\n",
        "from sklearn.svm import LinearSVC, SVC\n",
        "\n",
        "from sklearn.feature_extraction.text import TfidfVectorizer, CountVectorizer\n",
        "from sklearn.metrics import accuracy_score, confusion_matrix,ConfusionMatrixDisplay, classification_report"
      ]
    },
    {
      "cell_type": "markdown",
      "metadata": {
        "id": "vANV8P4Lndxu"
      },
      "source": [
        "### Load data into a pandas DataFrame"
      ]
    },
    {
      "cell_type": "code",
      "execution_count": 4,
      "metadata": {},
      "outputs": [],
      "source": [
        "data = pd.read_csv(data_path)"
      ]
    },
    {
      "cell_type": "markdown",
      "metadata": {
        "id": "SDKB4pUrntoU"
      },
      "source": [
        "We can visualize and analyze the data in this dataset by using the following functions"
      ]
    },
    {
      "cell_type": "code",
      "execution_count": 4,
      "metadata": {
        "colab": {
          "base_uri": "https://localhost:8080/",
          "height": 241
        },
        "id": "vTmtdaTCn1qq",
        "outputId": "d84a7141-39c1-4cbf-b2b3-c6b13e64bed5"
      },
      "outputs": [
        {
          "name": "stdout",
          "output_type": "stream",
          "text": [
            "First rows of the DataFrame: \n",
            "\n"
          ]
        },
        {
          "data": {
            "text/html": [
              "<div>\n",
              "<style scoped>\n",
              "    .dataframe tbody tr th:only-of-type {\n",
              "        vertical-align: middle;\n",
              "    }\n",
              "\n",
              "    .dataframe tbody tr th {\n",
              "        vertical-align: top;\n",
              "    }\n",
              "\n",
              "    .dataframe thead th {\n",
              "        text-align: right;\n",
              "    }\n",
              "</style>\n",
              "<table border=\"1\" class=\"dataframe\">\n",
              "  <thead>\n",
              "    <tr style=\"text-align: right;\">\n",
              "      <th></th>\n",
              "      <th>Text</th>\n",
              "      <th>Language</th>\n",
              "    </tr>\n",
              "  </thead>\n",
              "  <tbody>\n",
              "    <tr>\n",
              "      <th>0</th>\n",
              "      <td>Nature, in the broadest sense, is the natural...</td>\n",
              "      <td>English</td>\n",
              "    </tr>\n",
              "    <tr>\n",
              "      <th>1</th>\n",
              "      <td>\"Nature\" can refer to the phenomena of the phy...</td>\n",
              "      <td>English</td>\n",
              "    </tr>\n",
              "    <tr>\n",
              "      <th>2</th>\n",
              "      <td>The study of nature is a large, if not the onl...</td>\n",
              "      <td>English</td>\n",
              "    </tr>\n",
              "    <tr>\n",
              "      <th>3</th>\n",
              "      <td>Although humans are part of nature, human acti...</td>\n",
              "      <td>English</td>\n",
              "    </tr>\n",
              "    <tr>\n",
              "      <th>4</th>\n",
              "      <td>[1] The word nature is borrowed from the Old F...</td>\n",
              "      <td>English</td>\n",
              "    </tr>\n",
              "  </tbody>\n",
              "</table>\n",
              "</div>"
            ],
            "text/plain": [
              "                                                Text Language\n",
              "0   Nature, in the broadest sense, is the natural...  English\n",
              "1  \"Nature\" can refer to the phenomena of the phy...  English\n",
              "2  The study of nature is a large, if not the onl...  English\n",
              "3  Although humans are part of nature, human acti...  English\n",
              "4  [1] The word nature is borrowed from the Old F...  English"
            ]
          },
          "execution_count": 4,
          "metadata": {},
          "output_type": "execute_result"
        }
      ],
      "source": [
        "print(\"First rows of the DataFrame: \\n\")\n",
        "data.head()"
      ]
    },
    {
      "cell_type": "markdown",
      "metadata": {
        "id": "IUkQy8hiqaKg"
      },
      "source": [
        "From the **data.info()** we can notice that the dataset has 10337 entries and consists of two columns: \"Text\" and \"Language\". Both columns are of type object and contain no missing values. The \"Text\" column contains the text data, while the \"Language\" column contains the language in which the text is written. The memory usage of the dataframe is 161.6 KB."
      ]
    },
    {
      "cell_type": "code",
      "execution_count": 5,
      "metadata": {
        "colab": {
          "base_uri": "https://localhost:8080/",
          "height": 1000
        },
        "id": "DZAngJ-Yo9X4",
        "outputId": "13fe062b-95a3-44b1-d8f0-b0fd8f86e10e"
      },
      "outputs": [
        {
          "name": "stdout",
          "output_type": "stream",
          "text": [
            "Data info: \n",
            "\n",
            "<class 'pandas.core.frame.DataFrame'>\n",
            "RangeIndex: 10337 entries, 0 to 10336\n",
            "Data columns (total 2 columns):\n",
            " #   Column    Non-Null Count  Dtype \n",
            "---  ------    --------------  ----- \n",
            " 0   Text      10337 non-null  object\n",
            " 1   Language  10337 non-null  object\n",
            "dtypes: object(2)\n",
            "memory usage: 161.6+ KB\n"
          ]
        },
        {
          "data": {
            "text/plain": [
              "None"
            ]
          },
          "metadata": {},
          "output_type": "display_data"
        },
        {
          "name": "stdout",
          "output_type": "stream",
          "text": [
            "\n",
            "\n",
            "Language column of the DataFrame: \n",
            "\n"
          ]
        },
        {
          "data": {
            "text/plain": [
              "0        English\n",
              "1        English\n",
              "2        English\n",
              "3        English\n",
              "4        English\n",
              "          ...   \n",
              "10332    Kannada\n",
              "10333    Kannada\n",
              "10334    Kannada\n",
              "10335    Kannada\n",
              "10336    Kannada\n",
              "Name: Language, Length: 10337, dtype: object"
            ]
          },
          "metadata": {},
          "output_type": "display_data"
        },
        {
          "name": "stdout",
          "output_type": "stream",
          "text": [
            "\n",
            "\n",
            "Text column of the DataFrame: \n",
            "\n"
          ]
        },
        {
          "data": {
            "text/plain": [
              "0         Nature, in the broadest sense, is the natural...\n",
              "1        \"Nature\" can refer to the phenomena of the phy...\n",
              "2        The study of nature is a large, if not the onl...\n",
              "3        Although humans are part of nature, human acti...\n",
              "4        [1] The word nature is borrowed from the Old F...\n",
              "                               ...                        \n",
              "10332    ನಿಮ್ಮ ತಪ್ಪು ಏನು ಬಂದಿದೆಯೆಂದರೆ ಆ ದಿನದಿಂದ ನಿಮಗೆ ಒ...\n",
              "10333    ನಾರ್ಸಿಸಾ ತಾನು ಮೊದಲಿಗೆ ಹೆಣಗಾಡುತ್ತಿದ್ದ ಮಾರ್ಗಗಳನ್...\n",
              "10334    ಹೇಗೆ ' ನಾರ್ಸಿಸಿಸಮ್ ಈಗ ಮರಿಯನ್ ಅವರಿಗೆ ಸಂಭವಿಸಿದ ಎ...\n",
              "10335    ಅವಳು ಈಗ ಹೆಚ್ಚು ಚಿನ್ನದ ಬ್ರೆಡ್ ಬಯಸುವುದಿಲ್ಲ ಎಂದು ...\n",
              "10336    ಟೆರ್ರಿ ನೀವು ನಿಜವಾಗಿಯೂ ಆ ದೇವದೂತನಂತೆ ಸ್ವಲ್ಪ ಕಾಣು...\n",
              "Name: Text, Length: 10337, dtype: object"
            ]
          },
          "metadata": {},
          "output_type": "display_data"
        },
        {
          "name": "stdout",
          "output_type": "stream",
          "text": [
            "\n",
            "\n",
            "Italian sentences: \n",
            "\n",
            "7114    Nature è una delle più antiche ed importanti r...\n",
            "7115        [1] Viene pubblicata fin dal 4 novembre 1869.\n",
            "7116    [2] Nonostante la maggior parte delle riviste ...\n",
            "7117    Molti sono gli avanzamenti e le scoperte, prov...\n",
            "7118    Il fattore di impatto (impact factor) di quest...\n",
            "                              ...                        \n",
            "7807    qual è stato il tuo errore, ti diamo da mangia...\n",
            "7808    narcisa ha cambiato i suoi modi in un primo mo...\n",
            "7809    Come' Il narcisismo di adesso Marian ha detto ...\n",
            "7810    immagino che non vorrebbe più pane d'oro adess...\n",
            "7811    Terry in realtà assomigli un po 'a quell'angel...\n",
            "Name: Text, Length: 698, dtype: object\n"
          ]
        }
      ],
      "source": [
        "print(\"Data info: \\n\")\n",
        "display(data.info())\n",
        "print(\"\\n\")\n",
        "print(\"Language column of the DataFrame: \\n\")\n",
        "display(data.Language)\n",
        "print(\"\\n\")\n",
        "print(\"Text column of the DataFrame: \\n\")\n",
        "display(data.Text)\n",
        "print(\"\\n\")\n",
        "print(\"Italian sentences: \\n\")\n",
        "italian_data = data[data[\"Language\"] == \"Italian\"]\n",
        "print(italian_data[\"Text\"])\n"
      ]
    },
    {
      "cell_type": "markdown",
      "metadata": {
        "id": "MdpA5G9WqqJk"
      },
      "source": [
        "The **data.describe()** shows that there are 10267 unique sentences in the dataset, and 17 unique languages. The most frequent language is English, with 1385 occurrences, and the most common sentence is \"Jag är ledsen\" (which means \"I am sorry\" in Swedish), occurring 3 times. These statistics can be helpful to get a quick overview of the dataset and understand some of its characteristics.\n"
      ]
    },
    {
      "cell_type": "code",
      "execution_count": 6,
      "metadata": {
        "colab": {
          "base_uri": "https://localhost:8080/"
        },
        "id": "0gDcA-rtrvFl",
        "outputId": "9fe33558-1516-4251-eaa1-7a4387d42d51"
      },
      "outputs": [
        {
          "name": "stdout",
          "output_type": "stream",
          "text": [
            "Data description: \n",
            "\n",
            "                  Text Language\n",
            "count            10337    10337\n",
            "unique           10267       17\n",
            "top     Jag är ledsen.  English\n",
            "freq                 3     1385\n"
          ]
        }
      ],
      "source": [
        "print(\"Data description: \\n\")\n",
        "print(data.describe())"
      ]
    },
    {
      "attachments": {},
      "cell_type": "markdown",
      "metadata": {
        "id": "Z6ujBdjOrxoH"
      },
      "source": [
        "**value_counts()** shows the distribution of languages present in the dataset. The counts of each language are displayed in descending order, with English being the most common language and Hindi being the least common. The counts indicate the number of entries in the dataset for each language, with some languages having significantly more entries than others. The count distribution suggests that there is an imbalance in the dataset, with Italian being one of the minority classes. This may affect the performance of the machine learning model since it may be biased towards the majority class. To address this issue, it may be necessary to balance the dataset by either oversampling the minority class, undersampling the majority class, or using a combination of both techniques."
      ]
    },
    {
      "cell_type": "code",
      "execution_count": 6,
      "metadata": {
        "colab": {
          "base_uri": "https://localhost:8080/",
          "height": 826
        },
        "id": "W-HWJIvPqqWH",
        "outputId": "4dfbf5ad-8335-4129-da91-46a378414d7b"
      },
      "outputs": [
        {
          "name": "stdout",
          "output_type": "stream",
          "text": [
            "Language counts: \n",
            "\n"
          ]
        },
        {
          "data": {
            "text/plain": [
              "Language\n",
              "English       1385\n",
              "French        1014\n",
              "Spanish        819\n",
              "Portugeese     739\n",
              "Italian        698\n",
              "Russian        692\n",
              "Sweedish       676\n",
              "Malayalam      594\n",
              "Dutch          546\n",
              "Arabic         536\n",
              "Turkish        474\n",
              "German         470\n",
              "Tamil          469\n",
              "Danish         428\n",
              "Kannada        369\n",
              "Greek          365\n",
              "Hindi           63\n",
              "Name: count, dtype: int64"
            ]
          },
          "metadata": {},
          "output_type": "display_data"
        }
      ],
      "source": [
        "print(\"Language counts: \\n\")\n",
        "display(data[\"Language\"].value_counts())"
      ]
    },
    {
      "cell_type": "markdown",
      "metadata": {
        "id": "cB4enHsAr6Si"
      },
      "source": [
        "We can notice that there are two mispelled languages: \"Portugeese\" and \"Sweedish\", which need to be corrected."
      ]
    },
    {
      "cell_type": "code",
      "execution_count": 5,
      "metadata": {
        "id": "btfHSb7gsEPq"
      },
      "outputs": [
        {
          "data": {
            "text/plain": [
              "<Axes: title={'center': 'Number of Sentences per Language in Dataset'}, xlabel='Language'>"
            ]
          },
          "execution_count": 5,
          "metadata": {},
          "output_type": "execute_result"
        },
        {
          "data": {
            "image/png": "[encoded data removed]",
            "text/plain": [
              "<Figure size 800x400 with 1 Axes>"
            ]
          },
          "metadata": {},
          "output_type": "display_data"
        }
      ],
      "source": [
        "data.Language.replace(to_replace=[\"Portugeese\", \"Sweedish\"],value=[\"Portugese\",\"Swedish\"],inplace=True)\n",
        "colors = ['#F7CAC9', '#92A8D1', '#B6B095', '#A1C9A9', '#E8AEB7', '#C5DCA0', '#E5B8AD', '#D3C0D2', '#9B9E8F', '#D0ACA1', '#D1DAD8', '#E6D5C9', '#A69E8C', '#E0B1CB', '#C1D1C2', '#E8D0A9', '#BEB5A9']\n",
        "data.Language.value_counts()[data.Language.unique()].sort_values(ascending=False).plot.bar(title=\"Number of Sentences per Language in Dataset\",figsize=(8,4), color=colors)"
      ]
    },
    {
      "cell_type": "code",
      "execution_count": 6,
      "metadata": {},
      "outputs": [
        {
          "data": {
            "image/png": "[encoded data removed]",
            "text/plain": [
              "<Figure size 800x400 with 1 Axes>"
            ]
          },
          "metadata": {},
          "output_type": "display_data"
        }
      ],
      "source": [
        "# Count the number of words for each language\n",
        "word_counts = data.groupby(\"Language\")[\"Text\"].apply(lambda x: x.str.split().str.len().sum()).reset_index(name=\"Word Count\")\n",
        "# Calculate the total number of words in the dataset\n",
        "total_words = word_counts[\"Word Count\"].sum()\n",
        "word_counts = word_counts.sort_values(by='Word Count', ascending=False)\n",
        "\n",
        "# Plot the bar chart\n",
        "# Plot the bar chart\n",
        "plt.figure(figsize=(8, 4))\n",
        "plt.bar(word_counts[\"Language\"], word_counts[\"Word Count\"], color=['#b3cde0', '#fbb4ae', '#ccebc5', '#decbe4', '#fed9a6', '#c6dbef', '#fddaec', '#ffffcc', '#e5d8bd', '#f7f7f7', '#fbb4ae', '#b3cde0', '#ccebc5', '#decbe4', '#fed9a6', '#c6dbef', '#fddaec'])\n",
        "plt.title(f\"Number of Words per Language ({total_words} words total)\")\n",
        "plt.xlabel(\"Language\")\n",
        "plt.ylabel(\"Word count\")\n",
        "plt.xticks(rotation=90)\n",
        "plt.show()\n"
      ]
    },
    {
      "cell_type": "markdown",
      "metadata": {
        "id": "WQ3BP3xusHKX"
      },
      "source": [
        "### Data preparation\n",
        "We use a lambda function to map \"Italian\" class to 1, and any other language to 0."
      ]
    },
    {
      "cell_type": "code",
      "execution_count": 7,
      "metadata": {
        "colab": {
          "base_uri": "https://localhost:8080/",
          "height": 206
        },
        "id": "iMSuPdNssX2x",
        "outputId": "cb9d8356-1755-4fad-9dd1-72df1a6da84c"
      },
      "outputs": [
        {
          "data": {
            "text/html": [
              "<div>\n",
              "<style scoped>\n",
              "    .dataframe tbody tr th:only-of-type {\n",
              "        vertical-align: middle;\n",
              "    }\n",
              "\n",
              "    .dataframe tbody tr th {\n",
              "        vertical-align: top;\n",
              "    }\n",
              "\n",
              "    .dataframe thead th {\n",
              "        text-align: right;\n",
              "    }\n",
              "</style>\n",
              "<table border=\"1\" class=\"dataframe\">\n",
              "  <thead>\n",
              "    <tr style=\"text-align: right;\">\n",
              "      <th></th>\n",
              "      <th>Text</th>\n",
              "      <th>Language</th>\n",
              "    </tr>\n",
              "  </thead>\n",
              "  <tbody>\n",
              "    <tr>\n",
              "      <th>0</th>\n",
              "      <td>Nature, in the broadest sense, is the natural...</td>\n",
              "      <td>0</td>\n",
              "    </tr>\n",
              "    <tr>\n",
              "      <th>1</th>\n",
              "      <td>\"Nature\" can refer to the phenomena of the phy...</td>\n",
              "      <td>0</td>\n",
              "    </tr>\n",
              "    <tr>\n",
              "      <th>2</th>\n",
              "      <td>The study of nature is a large, if not the onl...</td>\n",
              "      <td>0</td>\n",
              "    </tr>\n",
              "    <tr>\n",
              "      <th>3</th>\n",
              "      <td>Although humans are part of nature, human acti...</td>\n",
              "      <td>0</td>\n",
              "    </tr>\n",
              "    <tr>\n",
              "      <th>4</th>\n",
              "      <td>[1] The word nature is borrowed from the Old F...</td>\n",
              "      <td>0</td>\n",
              "    </tr>\n",
              "  </tbody>\n",
              "</table>\n",
              "</div>"
            ],
            "text/plain": [
              "                                                Text  Language\n",
              "0   Nature, in the broadest sense, is the natural...         0\n",
              "1  \"Nature\" can refer to the phenomena of the phy...         0\n",
              "2  The study of nature is a large, if not the onl...         0\n",
              "3  Although humans are part of nature, human acti...         0\n",
              "4  [1] The word nature is borrowed from the Old F...         0"
            ]
          },
          "execution_count": 7,
          "metadata": {},
          "output_type": "execute_result"
        }
      ],
      "source": [
        "lang_map = lambda x: 1 if x == 'Italian' else 0\n",
        "data[\"Language\"] = data[\"Language\"].apply(lang_map)\n",
        "data.head()"
      ]
    },
    {
      "cell_type": "code",
      "execution_count": 8,
      "metadata": {},
      "outputs": [
        {
          "data": {
            "text/plain": [
              "<Axes: title={'center': 'Number of Sentences per Non-Italian and Italian Sets'}, xlabel='Language'>"
            ]
          },
          "execution_count": 8,
          "metadata": {},
          "output_type": "execute_result"
        },
        {
          "data": {
            "image/png": "[encoded data removed]",
            "text/plain": [
              "<Figure size 800x400 with 1 Axes>"
            ]
          },
          "metadata": {},
          "output_type": "display_data"
        }
      ],
      "source": [
        "data.Language.value_counts()[data.Language.unique()].sort_values(ascending=False).plot.bar(title=\"Number of Sentences per Non-Italian and Italian Sets\",figsize=(8,4), color=colors)"
      ]
    },
    {
      "cell_type": "markdown",
      "metadata": {
        "id": "9BG31W76sqIi"
      },
      "source": [
        "Prepare the labels and the data to be split in training and test sets."
      ]
    },
    {
      "cell_type": "code",
      "execution_count": 9,
      "metadata": {
        "colab": {
          "base_uri": "https://localhost:8080/"
        },
        "id": "7pSvbys-stPh",
        "outputId": "5f94ed32-c671-4356-ad1a-6069e6d3038f"
      },
      "outputs": [
        {
          "name": "stdout",
          "output_type": "stream",
          "text": [
            "(10337,)\n",
            "10337\n"
          ]
        }
      ],
      "source": [
        "X_text_data = data[\"Text\"]\n",
        "print(X_text_data.shape)\n",
        "\n",
        "Y = list(data[\"Language\"])\n",
        "print(len(Y))"
      ]
    },
    {
      "attachments": {},
      "cell_type": "markdown",
      "metadata": {
        "id": "8csVqhGWs_1X"
      },
      "source": [
        "### Data cleaning\n",
        "To improve accuracy of the language detection model, we need to clean our raw text data. The following regex-based text cleaning operations include removing special characters, symbols, numbers, URLs, HTML tags, and extra spaces. Additionally, the texts are converted to lowercase.\n",
        "\n",
        "Note that in presence of a more complex problem or more resources available, a more sophisticated data cleaning and embedding procedure should have been taken into account."
      ]
    },
    {
      "cell_type": "code",
      "execution_count": 10,
      "metadata": {
        "id": "CtYMMidXv2Cp"
      },
      "outputs": [],
      "source": [
        "def clean_text(data): \n",
        "    data_text_list = []\n",
        "    n_words = 0\n",
        "    for text in data:\n",
        "        text = re.sub(r'[\\.!@#$(),\\n\"%^*?\\+\\-\\':;~`0-9\\=\\[\\]]', ' ', text) # removing special characters, symbols and numbers\n",
        "        text = re.sub(r'http[s]?\\://\\S+|www\\.\\S+', ' ', text) # removing URLs\n",
        "        text = re.sub(r'<.*?>', ' ', text) # removing html tags\n",
        "        text = re.sub(r'\\s+',\" \", text) # removing extra large spaces\n",
        "        text = text.lower() # lower case\n",
        "\n",
        "        data_text_list.append(text)\n",
        "        words = text.split()  # Split text into words\n",
        "        n_words += len(words)  # Update word count\n",
        "        \n",
        "    return data_text_list, n_words\n"
      ]
    },
    {
      "cell_type": "code",
      "execution_count": 18,
      "metadata": {
        "colab": {
          "base_uri": "https://localhost:8080/"
        },
        "id": "hSPhWfiywByj",
        "outputId": "c7841871-04e6-42d3-e6c4-c3df1d6213a1"
      },
      "outputs": [
        {
          "name": "stdout",
          "output_type": "stream",
          "text": [
            "Sample sentence in italian:  molti sono gli avanzamenti e le scoperte provenienti da molti campi della ricerca scientifica che sono stati pubblicati su nature come articoli o lettere ad esempio la scoperta dei raggi x la natura ondulatoria delle particelle la scoperta dei neutroni le scoperte sulla fissione nucleare la struttura a doppia elica del dna la prima struttura molecolare di una proteina la mioglobina la tettonica a zolle il buco dell ozono la prima clonazione di un mammifero la pecora dolly il sequenziamento del genoma umano \n",
            "Number of words:  201905\n",
            "Number of sentences:  10337\n"
          ]
        }
      ],
      "source": [
        "clean_data_list, n_words = clean_text(X_text_data)\n",
        "\n",
        "X_text_data = clean_data_list\n",
        "\n",
        "print(\"Sample sentence in italian: \",clean_data_list[7117])\n",
        "print(\"Number of words: \", n_words)\n",
        "print(\"Number of sentences: \", len(X_text_data))"
      ]
    },
    {
      "cell_type": "markdown",
      "metadata": {
        "id": "Hgrh_r1jyb5W"
      },
      "source": [
        "### Train and test split"
      ]
    },
    {
      "cell_type": "code",
      "execution_count": 19,
      "metadata": {
        "id": "sfisu5R_ywJT"
      },
      "outputs": [
        {
          "name": "stdout",
          "output_type": "stream",
          "text": [
            "8269\n",
            "2068\n",
            "10337\n"
          ]
        }
      ],
      "source": [
        "X_train, X_test, Y_train, Y_test = train_test_split(X_text_data, Y, test_size = 0.20, random_state=23)\n",
        "print(len(X_train))\n",
        "print(len(X_test))\n",
        "print(len(X_train)+len(X_test))"
      ]
    },
    {
      "attachments": {},
      "cell_type": "markdown",
      "metadata": {
        "id": "DZTVo38zyzR7"
      },
      "source": [
        "### Model selection\n",
        "We can build our machine learning model for the binary language detection task by performing a grid search for hyperparameters tuning among different ML algorithms using 5-Fold Cross-Validation with scoring F1.\n",
        "The main algorithms suitable for this task are the following:\n",
        "\n",
        "\n",
        "*   Multinomial Naive Bayes Classifier\n",
        "*   Support Vector Machines (SVM)\n",
        "*   Random Forest Classifier\n",
        "*   SGD Classifier\n",
        "*   Decision Tree Classifier\n",
        "\n",
        "Since the dataset is highly imbalanced, we can set `class_weights='balanced'` for SVC, Random Forest, SGD and Decision Tree classifiers. \n",
        "\n",
        "In a similar way, we can provide MultinomialNB with `fit_prior=True` and `class_prior=[0.5,0.5]`. In fact, if we use a Naive Bayes classifier with `fit_prior=True` (which is the default), the classifier will estimate the class priors from the data. Since the data is imbalanced, the estimated class priors will be biased towards the majority class. This means that the classifier will assign a higher weight to class 0 during training, even if the features are more predictive of class 1. As a result, the classifier may have lower accuracy and higher false negative rate (i.e., it may incorrectly classify class 1 instances as class 0) for the minority class.\n",
        "To address this issue, we can set the `class_prior` parameter explicitly to balance the class distribution.\n",
        "\n",
        "In addition, we search for the best vectorizer among TF-IDF and CountVectorizer to be applied for each of the classifiers.\n",
        "We define an ngram_range and, depending on the estimator, we define the suitable hyparameters of interest .\n",
        "\n",
        "Once the run of the grid search is complete, it will return the best estimator with the best hyparameters tuning found in terms of F1 score, which is a suitable indicator of binary classification performance, since it represents both precision and recall in one metric.\n",
        "\n"
      ]
    },
    {
      "cell_type": "code",
      "execution_count": 20,
      "metadata": {
        "colab": {
          "base_uri": "https://localhost:8080/"
        },
        "id": "Enz0yPAi9uS6",
        "outputId": "733e90cf-55a8-4b0b-acf4-22c771cd018c"
      },
      "outputs": [
        {
          "name": "stdout",
          "output_type": "stream",
          "text": [
            "Fitting 5 folds for each of 180 candidates, totalling 900 fits\n",
            "Best parameters:  {'estimator': MultinomialNB(alpha=0.1, class_prior=[0.5, 0.5]), 'estimator__alpha': 0.1, 'vectorizer': CountVectorizer(ngram_range=(1, 2)), 'vectorizer__ngram_range': (1, 2)}\n",
            "F1-score:  0.9747355199570714\n",
            "Best estmator:  Pipeline(steps=[('vectorizer', CountVectorizer(ngram_range=(1, 2))),\n",
            "                ('estimator',\n",
            "                 MultinomialNB(alpha=0.1, class_prior=[0.5, 0.5]))])\n"
          ]
        }
      ],
      "source": [
        "# Define the parameter grids for each algorithm\n",
        "pipeline_estimators = Pipeline([\n",
        "        ('vectorizer', None),\n",
        "        ('estimator', None)\n",
        "    ])\n",
        "\n",
        "param_grids = [\n",
        "    {\n",
        "    'estimator': [SVC(class_weight='balanced')],\n",
        "        'vectorizer': [TfidfVectorizer(), CountVectorizer()],\n",
        "        'vectorizer__ngram_range': [(1,1), (1,2), (1,3)],\n",
        "        'estimator__kernel': ['linear', 'rbf'],\n",
        "        'estimator__C': [0.1, 1, 10]\n",
        "    },\n",
        "    {\n",
        "    'estimator': [LinearSVC(class_weight='balanced')],\n",
        "        'vectorizer': [TfidfVectorizer(), CountVectorizer()],\n",
        "        'vectorizer__ngram_range': [(1,1), (1,2), (1,3)],\n",
        "        'estimator__C': [0.1, 1, 10]\n",
        "    },\n",
        "    {\n",
        "    'estimator': [MultinomialNB(fit_prior=True,class_prior=[0.5, 0.5])],\n",
        "        'vectorizer': [TfidfVectorizer(), CountVectorizer()],\n",
        "        'vectorizer__ngram_range': [(1,1), (1,2), (1,3)],\n",
        "        'estimator__alpha': [0.1, 1, 10]\n",
        "    },\n",
        "    {\n",
        "    'estimator': [RandomForestClassifier(class_weight='balanced')],\n",
        "        'vectorizer': [TfidfVectorizer(), CountVectorizer()],\n",
        "        'vectorizer__ngram_range': [(1,1), (1,2), (1,3)],\n",
        "        'estimator__n_estimators': [50, 100],\n",
        "        'estimator__max_depth': [None, 10, 20]\n",
        "    },\n",
        "    {\n",
        "    'estimator': [DecisionTreeClassifier(class_weight='balanced')],\n",
        "        'vectorizer': [TfidfVectorizer(), CountVectorizer()],\n",
        "        'vectorizer__ngram_range': [(1,1), (1,2), (1,3)],\n",
        "        'estimator__max_depth': [None, 10, 20],\n",
        "        'estimator__criterion': ['gini', 'entropy'],\n",
        "    },\n",
        "    {\n",
        "    'estimator': [SGDClassifier(class_weight='balanced')],\n",
        "        'vectorizer': [TfidfVectorizer(), CountVectorizer()],\n",
        "        'vectorizer__ngram_range': [(1,1), (1,2), (1,3)],\n",
        "        'estimator__alpha': [0.001, 0.01, 0.1],\n",
        "        'estimator__loss': ['hinge', 'log']\n",
        "    }\n",
        "]\n",
        "\n",
        "# Train and evaluate each algorithm using grid search\n",
        "grid_search = GridSearchCV(pipeline_estimators, param_grids, cv=5, n_jobs=-1, scoring='f1',verbose=4)\n",
        "grid_search.fit(X_train, Y_train)\n",
        "\n",
        "# Print the best parameters and the accuracy on the validation set\n",
        "print(f\"Best parameters: \", grid_search.best_params_)\n",
        "print(f\"F1-score: \", grid_search.best_score_)\n",
        "best_model = grid_search.best_estimator_\n",
        "print(\"Best estmator: \", best_model)\n"
      ]
    },
    {
      "attachments": {},
      "cell_type": "markdown",
      "metadata": {},
      "source": [
        "The resulting best model is the Multinomial Naive Bayes classifier with Laplace smoothing parameter `alpha=0.1` , and a best vectorizer selected as CountVectorizer with `n_gram_range = (1,2)`, namely performing a word-based n_gram with unigrams and bigrams.\n",
        "\n",
        "Multinomial Naive Bayes is a probabilistic algorithm based on Bayesian theorem which is particularly suitable for classification task. It is based on the assumption that the features (i.e. the occurrence counts of words in our sentences) are independent and identically distributed according to the multinomial distribution. So, in our case, the MultinomialNB algorithm computes the probabilities of a word belonging to each language. Then, the class with the highest probability is assigned as the predicted class for the given word.\n",
        "\n",
        "Additionally, MultinomialNB is fast and efficient, whith high performance also for large datasets."
      ]
    },
    {
      "attachments": {},
      "cell_type": "markdown",
      "metadata": {
        "id": "cX4bv_UlADU0"
      },
      "source": [
        "### Results\n",
        "Confusion matrix and classification report\n"
      ]
    },
    {
      "cell_type": "code",
      "execution_count": 15,
      "metadata": {
        "id": "y3em0F3cAYen"
      },
      "outputs": [],
      "source": [
        "def plot_CM(Y_test, y_pred, estimator):\n",
        "    class_names = ['Not Italian','Italian']\n",
        "    cm = confusion_matrix(Y_test, y_pred)\n",
        "    \n",
        "    # create a heatmap of the confusion matrix\n",
        "    fig, ax = plt.subplots(figsize=(8, 6))\n",
        "    sns.heatmap(cm, annot=True, cmap='Greens', fmt='d', xticklabels=class_names, yticklabels=class_names, ax=ax)\n",
        "    \n",
        "    # set the axis labels and title\n",
        "    ax.set_xlabel('Predicted Labels')\n",
        "    ax.set_ylabel('True Labels')\n",
        "    \n",
        "    # get the name of the estimator\n",
        "    estimator_name = type(estimator.named_steps['estimator']).__name__\n",
        "    print(estimator_name)\n",
        "    if estimator_name == 'MultinomialNB':\n",
        "        estimator_name = 'Multinomial Naive Bayes'\n",
        "    elif estimator_name == 'SVC':\n",
        "        estimator_name = 'SVM Classifier'\n",
        "    elif estimator_name == 'LinearSVC':\n",
        "        estimator_name = 'Linear Support Vector Classification.'\n",
        "    elif estimator_name == 'RandomForestClassifier':\n",
        "        estimator_name = 'Random Forest'\n",
        "    elif estimator_name == 'SGDClassifier':\n",
        "        estimator_name = 'Stochastic Gradient Descent'\n",
        "    elif estimator_name == 'DecisionTreeClassifier':\n",
        "        estimator_name = 'Decision Tree Classifier'\n",
        "\n",
        "    ax.set_title('Confusion Matrix - ' + estimator_name)\n",
        "\n",
        "    # show the plot\n",
        "    plt.show()"
      ]
    },
    {
      "cell_type": "code",
      "execution_count": 21,
      "metadata": {
        "colab": {
          "base_uri": "https://localhost:8080/",
          "height": 1000
        },
        "id": "G5nlwsnpBN4h",
        "outputId": "5aedf980-4f11-4257-c54b-4e4c04a74484"
      },
      "outputs": [
        {
          "name": "stdout",
          "output_type": "stream",
          "text": [
            "MultinomialNB\n"
          ]
        },
        {
          "data": {
            "image/png": "[encoded data removed]",
            "text/plain": [
              "<Figure size 800x600 with 2 Axes>"
            ]
          },
          "metadata": {},
          "output_type": "display_data"
        },
        {
          "name": "stdout",
          "output_type": "stream",
          "text": [
            "              precision    recall  f1-score   support\n",
            "\n",
            "           0      0.999     0.999     0.999      1925\n",
            "           1      0.986     0.993     0.990       143\n",
            "\n",
            "    accuracy                          0.999      2068\n",
            "   macro avg      0.993     0.996     0.994      2068\n",
            "weighted avg      0.999     0.999     0.999      2068\n",
            "\n"
          ]
        }
      ],
      "source": [
        "y_pred = best_model.predict(X_test)\n",
        "\n",
        "plot_CM(Y_test, y_pred, best_model)\n",
        "print(classification_report(Y_test, y_pred, digits=3))"
      ]
    },
    {
      "attachments": {},
      "cell_type": "markdown",
      "metadata": {},
      "source": [
        "The resulting confusion matrix shows excellent results. In fact, our model is able to correctly classify almost every sample in test set. Accordingly, as it can be seen in the classification report, precision, recall, accuracy and F1-score reach high performance, confirming that MultinomialNB is the best strategy for our Binary Language Detection task."
      ]
    },
    {
      "cell_type": "code",
      "execution_count": 43,
      "metadata": {
        "id": "Gxduluxv6dvZ"
      },
      "outputs": [],
      "source": [
        "# Save model in your local folder. Be sure to modify the save_path to match your desired one.\n",
        "\n",
        "save_path = './BinaryLanguageDetection/'\n",
        "\n",
        "now = datetime.datetime.now()\n",
        "date_time = now.strftime(\"%Y-%m-%d_%H-%M-%S\")\n",
        "estimator_name = type(best_model.named_steps['estimator']).__name__\n",
        "save_file_path = save_path + estimator_name + '_' + date_time + '.pkl'\n",
        "with open(save_file_path, 'wb') as file:\n",
        "    pickle.dump(grid_search.best_estimator_, file)"
      ]
    },
    {
      "cell_type": "code",
      "execution_count": 29,
      "metadata": {},
      "outputs": [
        {
          "data": {
            "image/png": "[encoded data removed]",
            "text/plain": [
              "<Figure size 640x480 with 2 Axes>"
            ]
          },
          "metadata": {},
          "output_type": "display_data"
        }
      ],
      "source": [
        "# Load pre-trained pickle model to perform evaluation and print confusion matrix and classification report\n",
        "# Be sure to modify the saved_path_file\n",
        "\n",
        "saved_file_path = 'C:/Users/gioia/OneDrive/Lavoro/Translated/ExerciseInterview/BinaryLanguageDetection/MultinomialNB_2023-04-09_20-58-01.pkl'\n",
        "loaded_model = pickle.load(open(saved_file_path, 'rb'))\n",
        "\n",
        "y_pred_loaded = loaded_model.predict(X_test)\n",
        "\n",
        "cm_loaded = confusion_matrix(Y_test, y_pred_loaded)\n",
        "disp_cm = ConfusionMatrixDisplay(cm_loaded, display_labels=['Not Italian','Italian'])\n",
        "disp_cm.plot(cmap=plt.cm.Greens)\n",
        "plt.show()"
      ]
    },
    {
      "attachments": {},
      "cell_type": "markdown",
      "metadata": {},
      "source": [
        "### Additional considerations\n",
        "The proposed grid search algorithm performs a search with various hyperparameters for each model, returning the MultinomialNB classifier with `ngram_range = (1,2)` as stated above. However, it takes several minutes (around 10m, depending on the machine) to run, since it fits 5 folds for each of 180 candidates, totalling 900 fits, to return the best model.\n",
        "\n",
        "One option to reduce this time could be try to remove some hyperparameter search or modify the vectorizer's parameters. For instance, just by removing the ngram_range parameter, the number of fits is drastically reduced to 300, returning a best model of F1-score equal to 0.97, essentially comparable to the previous one. Moreover, the obtained vocabulary will be of smaller size, since it is not composed of bigrams. Similarly, one could refine the search in several ways based also on level of accuracy required or given time constraints for a specific delivery.\n",
        "\n",
        "Therefore, although the training time of the different approaches could not be extremely different on a powerful machine, it could be an issue when having to reproduce or employ the model in a system with reduced available computational power, where a more lightweight model could be preferable."
      ]
    },
    {
      "cell_type": "code",
      "execution_count": 22,
      "metadata": {},
      "outputs": [
        {
          "name": "stdout",
          "output_type": "stream",
          "text": [
            "Fitting 5 folds for each of 60 candidates, totalling 300 fits\n",
            "Best parameters:  {'estimator': MultinomialNB(alpha=0.1, class_prior=[0.5, 0.5]), 'estimator__alpha': 0.1, 'vectorizer': CountVectorizer()}\n",
            "F1-score:  0.9700166076114239\n",
            "Best estmator:  Pipeline(steps=[('vectorizer', CountVectorizer()),\n",
            "                ('estimator',\n",
            "                 MultinomialNB(alpha=0.1, class_prior=[0.5, 0.5]))])\n"
          ]
        }
      ],
      "source": [
        "# Define the parameter grids for each algorithm (NO ngram search)\n",
        "pipeline_estimators = Pipeline([\n",
        "        ('vectorizer', None),\n",
        "        ('estimator', None)\n",
        "    ])\n",
        "\n",
        "param_grids = [\n",
        "    {\n",
        "    'estimator': [SVC(class_weight='balanced')],\n",
        "        'vectorizer': [TfidfVectorizer(), CountVectorizer()],\n",
        "        'estimator__kernel': ['linear', 'rbf'],\n",
        "        'estimator__C': [0.1, 1, 10]\n",
        "    },\n",
        "    {\n",
        "    'estimator': [LinearSVC(class_weight='balanced')],\n",
        "        'vectorizer': [TfidfVectorizer(), CountVectorizer()],\n",
        "        'estimator__C': [0.1, 1, 10]\n",
        "    },\n",
        "    {\n",
        "    'estimator': [MultinomialNB(fit_prior=True,class_prior=[0.5, 0.5])],\n",
        "        'vectorizer': [TfidfVectorizer(), CountVectorizer()],\n",
        "        'estimator__alpha': [0.1, 1, 10]\n",
        "    },\n",
        "    {\n",
        "    'estimator': [RandomForestClassifier(class_weight='balanced')],\n",
        "        'vectorizer': [TfidfVectorizer(), CountVectorizer()],\n",
        "        'estimator__n_estimators': [50, 100],\n",
        "        'estimator__max_depth': [None, 10, 20]\n",
        "    },\n",
        "    {\n",
        "    'estimator': [DecisionTreeClassifier(class_weight='balanced')],\n",
        "        'vectorizer': [TfidfVectorizer(), CountVectorizer()],\n",
        "        'estimator__max_depth': [None, 10, 20],\n",
        "        'estimator__criterion': ['gini', 'entropy'],\n",
        "    },\n",
        "    {\n",
        "    'estimator': [SGDClassifier(class_weight='balanced')],\n",
        "        'vectorizer': [TfidfVectorizer(), CountVectorizer()],\n",
        "        'estimator__alpha': [0.001, 0.01, 0.1],\n",
        "        'estimator__loss': ['hinge', 'log']\n",
        "    }\n",
        "]\n",
        "\n",
        "# Train and evaluate each algorithm using grid search\n",
        "grid_search = GridSearchCV(pipeline_estimators, param_grids, cv=5, n_jobs=-1, scoring='f1',verbose=4)\n",
        "grid_search.fit(X_train, Y_train)\n",
        "\n",
        "# Print the best parameters and the accuracy on the validation set\n",
        "print(f\"Best parameters: \", grid_search.best_params_)\n",
        "print(f\"F1-score: \", grid_search.best_score_)\n",
        "best_model = grid_search.best_estimator_\n",
        "print(\"Best estmator: \", best_model)"
      ]
    },
    {
      "cell_type": "code",
      "execution_count": 24,
      "metadata": {},
      "outputs": [
        {
          "name": "stdout",
          "output_type": "stream",
          "text": [
            "MultinomialNB\n"
          ]
        },
        {
          "data": {
            "image/png": "[encoded data removed]",
            "text/plain": [
              "<Figure size 800x600 with 2 Axes>"
            ]
          },
          "metadata": {},
          "output_type": "display_data"
        },
        {
          "name": "stdout",
          "output_type": "stream",
          "text": [
            "              precision    recall  f1-score   support\n",
            "\n",
            "           0      0.999     0.998     0.999      1925\n",
            "           1      0.973     0.993     0.983       143\n",
            "\n",
            "    accuracy                          0.998      2068\n",
            "   macro avg      0.986     0.995     0.991      2068\n",
            "weighted avg      0.998     0.998     0.998      2068\n",
            "\n"
          ]
        }
      ],
      "source": [
        "y_pred = best_model.predict(X_test)\n",
        "\n",
        "plot_CM(Y_test, y_pred, best_model)\n",
        "print(classification_report(Y_test, y_pred, digits=3))"
      ]
    }
  ],
  "metadata": {
    "colab": {
      "provenance": []
    },
    "kernelspec": {
      "display_name": "Python 3",
      "name": "python3"
    },
    "language_info": {
      "codemirror_mode": {
        "name": "ipython",
        "version": 3
      },
      "file_extension": ".py",
      "mimetype": "text/x-python",
      "name": "python",
      "nbconvert_exporter": "python",
      "pygments_lexer": "ipython3",
      "version": "3.9.16"
    }
  },
  "nbformat": 4,
  "nbformat_minor": 0
}
