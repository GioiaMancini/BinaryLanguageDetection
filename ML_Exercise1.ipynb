{
  "nbformat": 4,
  "nbformat_minor": 0,
  "metadata": {
    "colab": {
      "provenance": []
    },
    "kernelspec": {
      "name": "python3",
      "display_name": "Python 3"
    },
    "language_info": {
      "name": "python"
    }
  },
  "cells": [
    {
      "cell_type": "markdown",
      "source": [
        "# Binary Language Detection - Translated Assessment - Exercise 1"
      ],
      "metadata": {
        "id": "x4Q3Yt9ykX27"
      }
    },
    {
      "cell_type": "markdown",
      "source": [
        "### Usage\n",
        "In order to use this notebook, the Language Detection Dataset from Kaggle is required. \n",
        "You can either download it directly from Kaggle at https://www.kaggle.com/datasets/basilb2s/language-detection, after logging in, or download it through the next code block by using a Kaggle API token."
      ],
      "metadata": {
        "id": "c8saYIZDkilT"
      }
    },
    {
      "cell_type": "markdown",
      "source": [
        "### 1. Download the dataset from the website, upload it to your Google Drive, mount it into this notebook."
      ],
      "metadata": {
        "id": "96DMGCHOkaWL"
      }
    },
    {
      "cell_type": "code",
      "execution_count": 2,
      "metadata": {
        "colab": {
          "base_uri": "https://localhost:8080/"
        },
        "id": "ogYxgszzkT3i",
        "outputId": "132dac71-f6ba-4623-c373-593e486b7963"
      },
      "outputs": [
        {
          "output_type": "stream",
          "name": "stdout",
          "text": [
            "Mounted at /content/drive\n"
          ]
        }
      ],
      "source": [
        "from google.colab import drive\n",
        "drive.mount('/content/drive')"
      ]
    },
    {
      "cell_type": "code",
      "source": [
        "data_path = '/content/drive/My Drive/Datasets/Language Detection.csv'"
      ],
      "metadata": {
        "id": "IBeNXBa-lvUN"
      },
      "execution_count": 1,
      "outputs": []
    },
    {
      "cell_type": "markdown",
      "source": [
        "### 2. Donwload the dataset through a Kaggle API token.\n",
        "First, you need to upload your kaggle.json file into the root of your drive. Then, execute the cells below (for more details please refer to the readme.me in GitHub repository).\n"
      ],
      "metadata": {
        "id": "qjyBS9nRmAhi"
      }
    },
    {
      "cell_type": "code",
      "source": [
        "!pip install kaggle"
      ],
      "metadata": {
        "colab": {
          "base_uri": "https://localhost:8080/"
        },
        "id": "7mXo0OQ5mOwk",
        "outputId": "21dfd437-8180-49bf-d1d4-10d96c6f419a"
      },
      "execution_count": 4,
      "outputs": [
        {
          "output_type": "stream",
          "name": "stdout",
          "text": [
            "Looking in indexes: https://pypi.org/simple, https://us-python.pkg.dev/colab-wheels/public/simple/\n",
            "Requirement already satisfied: kaggle in /usr/local/lib/python3.9/dist-packages (1.5.13)\n",
            "Requirement already satisfied: python-slugify in /usr/local/lib/python3.9/dist-packages (from kaggle) (8.0.1)\n",
            "Requirement already satisfied: urllib3 in /usr/local/lib/python3.9/dist-packages (from kaggle) (1.26.15)\n",
            "Requirement already satisfied: certifi in /usr/local/lib/python3.9/dist-packages (from kaggle) (2022.12.7)\n",
            "Requirement already satisfied: six>=1.10 in /usr/local/lib/python3.9/dist-packages (from kaggle) (1.16.0)\n",
            "Requirement already satisfied: python-dateutil in /usr/local/lib/python3.9/dist-packages (from kaggle) (2.8.2)\n",
            "Requirement already satisfied: tqdm in /usr/local/lib/python3.9/dist-packages (from kaggle) (4.65.0)\n",
            "Requirement already satisfied: requests in /usr/local/lib/python3.9/dist-packages (from kaggle) (2.27.1)\n",
            "Requirement already satisfied: text-unidecode>=1.3 in /usr/local/lib/python3.9/dist-packages (from python-slugify->kaggle) (1.3)\n",
            "Requirement already satisfied: idna<4,>=2.5 in /usr/local/lib/python3.9/dist-packages (from requests->kaggle) (3.4)\n",
            "Requirement already satisfied: charset-normalizer~=2.0.0 in /usr/local/lib/python3.9/dist-packages (from requests->kaggle) (2.0.12)\n"
          ]
        }
      ]
    },
    {
      "cell_type": "code",
      "source": [
        "!mkdir -p /root/.kaggle\n",
        "!cp '/content/drive/My Drive/kaggle.json' /root/.kaggle/"
      ],
      "metadata": {
        "id": "wVO4U5srmQ6Q"
      },
      "execution_count": 5,
      "outputs": []
    },
    {
      "cell_type": "code",
      "source": [
        "# Move to the directory in which you want to download the dataset\n",
        "%cd /content/drive/MyDrive/Datasets"
      ],
      "metadata": {
        "id": "kZ7Sv33amkpI"
      },
      "execution_count": null,
      "outputs": []
    },
    {
      "cell_type": "code",
      "source": [
        "# Download the dataset and unzip it\n",
        "!kaggle datasets download -d basilb2s/language-detection\n",
        "!unzip language-detection.zip"
      ],
      "metadata": {
        "id": "NBx9_gBTmnv8"
      },
      "execution_count": null,
      "outputs": []
    },
    {
      "cell_type": "markdown",
      "source": [
        "### Import libraries and useful dependencies"
      ],
      "metadata": {
        "id": "OhbNaQy0mwa8"
      }
    },
    {
      "cell_type": "code",
      "source": [
        "# Data manipulation and analysis\n",
        "import numpy as np\n",
        "import pandas as pd\n",
        "\n",
        "# Save models\n",
        "import datetime\n",
        "import pickle\n",
        "\n",
        "# Data visualization\n",
        "import matplotlib.pyplot as plt\n",
        "import seaborn as sns\n",
        "\n",
        "# Text processing and machine learning\n",
        "import re\n",
        "from sklearn.model_selection import train_test_split\n",
        "from sklearn.model_selection import GridSearchCV\n",
        "from sklearn.pipeline import Pipeline\n",
        "from sklearn.naive_bayes import MultinomialNB\n",
        "from sklearn.linear_model import LogisticRegression, SGDClassifier\n",
        "from sklearn.ensemble import RandomForestClassifier\n",
        "from sklearn.svm import LinearSVC, SVC\n",
        "\n",
        "from sklearn.feature_extraction.text import TfidfVectorizer, CountVectorizer\n",
        "from sklearn.metrics import accuracy_score, confusion_matrix, classification_report, roc_curve, auc"
      ],
      "metadata": {
        "id": "rUQVwbzbm3s4"
      },
      "execution_count": 17,
      "outputs": []
    },
    {
      "cell_type": "markdown",
      "source": [
        "### Load data into a pandas DataFrame"
      ],
      "metadata": {
        "id": "vANV8P4Lndxu"
      }
    },
    {
      "cell_type": "code",
      "source": [
        "data_path = '/content/drive/My Drive/Datasets/Language Detection.csv'\n",
        "data = pd.read_csv(data_path)"
      ],
      "metadata": {
        "id": "BGOBhyNenjbm"
      },
      "execution_count": 3,
      "outputs": []
    },
    {
      "cell_type": "markdown",
      "source": [
        "We can visualize and analyze the data in this dataset by using the following functions"
      ],
      "metadata": {
        "id": "SDKB4pUrntoU"
      }
    },
    {
      "cell_type": "code",
      "source": [
        "print(\"First rows of the DataFrame: \\n\")\n",
        "data.head()"
      ],
      "metadata": {
        "colab": {
          "base_uri": "https://localhost:8080/",
          "height": 241
        },
        "id": "vTmtdaTCn1qq",
        "outputId": "d84a7141-39c1-4cbf-b2b3-c6b13e64bed5"
      },
      "execution_count": 42,
      "outputs": [
        {
          "output_type": "stream",
          "name": "stdout",
          "text": [
            "First rows of the DataFrame: \n",
            "\n"
          ]
        },
        {
          "output_type": "execute_result",
          "data": {
            "text/plain": [
              "                                                Text  Language\n",
              "0   Nature, in the broadest sense, is the natural...         0\n",
              "1  \"Nature\" can refer to the phenomena of the phy...         0\n",
              "2  The study of nature is a large, if not the onl...         0\n",
              "3  Although humans are part of nature, human acti...         0\n",
              "4  [1] The word nature is borrowed from the Old F...         0"
            ],
            "text/html": [
              "\n",
              "  <div id=\"df-7f113bda-c4fe-456e-a685-1a96ba90b9d3\">\n",
              "    <div class=\"colab-df-container\">\n",
              "      <div>\n",
              "<style scoped>\n",
              "    .dataframe tbody tr th:only-of-type {\n",
              "        vertical-align: middle;\n",
              "    }\n",
              "\n",
              "    .dataframe tbody tr th {\n",
              "        vertical-align: top;\n",
              "    }\n",
              "\n",
              "    .dataframe thead th {\n",
              "        text-align: right;\n",
              "    }\n",
              "</style>\n",
              "<table border=\"1\" class=\"dataframe\">\n",
              "  <thead>\n",
              "    <tr style=\"text-align: right;\">\n",
              "      <th></th>\n",
              "      <th>Text</th>\n",
              "      <th>Language</th>\n",
              "    </tr>\n",
              "  </thead>\n",
              "  <tbody>\n",
              "    <tr>\n",
              "      <th>0</th>\n",
              "      <td>Nature, in the broadest sense, is the natural...</td>\n",
              "      <td>0</td>\n",
              "    </tr>\n",
              "    <tr>\n",
              "      <th>1</th>\n",
              "      <td>\"Nature\" can refer to the phenomena of the phy...</td>\n",
              "      <td>0</td>\n",
              "    </tr>\n",
              "    <tr>\n",
              "      <th>2</th>\n",
              "      <td>The study of nature is a large, if not the onl...</td>\n",
              "      <td>0</td>\n",
              "    </tr>\n",
              "    <tr>\n",
              "      <th>3</th>\n",
              "      <td>Although humans are part of nature, human acti...</td>\n",
              "      <td>0</td>\n",
              "    </tr>\n",
              "    <tr>\n",
              "      <th>4</th>\n",
              "      <td>[1] The word nature is borrowed from the Old F...</td>\n",
              "      <td>0</td>\n",
              "    </tr>\n",
              "  </tbody>\n",
              "</table>\n",
              "</div>\n",
              "      <button class=\"colab-df-convert\" onclick=\"convertToInteractive('df-7f113bda-c4fe-456e-a685-1a96ba90b9d3')\"\n",
              "              title=\"Convert this dataframe to an interactive table.\"\n",
              "              style=\"display:none;\">\n",
              "        \n",
              "  <svg xmlns=\"http://www.w3.org/2000/svg\" height=\"24px\"viewBox=\"0 0 24 24\"\n",
              "       width=\"24px\">\n",
              "    <path d=\"M0 0h24v24H0V0z\" fill=\"none\"/>\n",
              "    <path d=\"M18.56 5.44l.94 2.06.94-2.06 2.06-.94-2.06-.94-.94-2.06-.94 2.06-2.06.94zm-11 1L8.5 8.5l.94-2.06 2.06-.94-2.06-.94L8.5 2.5l-.94 2.06-2.06.94zm10 10l.94 2.06.94-2.06 2.06-.94-2.06-.94-.94-2.06-.94 2.06-2.06.94z\"/><path d=\"M17.41 7.96l-1.37-1.37c-.4-.4-.92-.59-1.43-.59-.52 0-1.04.2-1.43.59L10.3 9.45l-7.72 7.72c-.78.78-.78 2.05 0 2.83L4 21.41c.39.39.9.59 1.41.59.51 0 1.02-.2 1.41-.59l7.78-7.78 2.81-2.81c.8-.78.8-2.07 0-2.86zM5.41 20L4 18.59l7.72-7.72 1.47 1.35L5.41 20z\"/>\n",
              "  </svg>\n",
              "      </button>\n",
              "      \n",
              "  <style>\n",
              "    .colab-df-container {\n",
              "      display:flex;\n",
              "      flex-wrap:wrap;\n",
              "      gap: 12px;\n",
              "    }\n",
              "\n",
              "    .colab-df-convert {\n",
              "      background-color: #E8F0FE;\n",
              "      border: none;\n",
              "      border-radius: 50%;\n",
              "      cursor: pointer;\n",
              "      display: none;\n",
              "      fill: #1967D2;\n",
              "      height: 32px;\n",
              "      padding: 0 0 0 0;\n",
              "      width: 32px;\n",
              "    }\n",
              "\n",
              "    .colab-df-convert:hover {\n",
              "      background-color: #E2EBFA;\n",
              "      box-shadow: 0px 1px 2px rgba(60, 64, 67, 0.3), 0px 1px 3px 1px rgba(60, 64, 67, 0.15);\n",
              "      fill: #174EA6;\n",
              "    }\n",
              "\n",
              "    [theme=dark] .colab-df-convert {\n",
              "      background-color: #3B4455;\n",
              "      fill: #D2E3FC;\n",
              "    }\n",
              "\n",
              "    [theme=dark] .colab-df-convert:hover {\n",
              "      background-color: #434B5C;\n",
              "      box-shadow: 0px 1px 3px 1px rgba(0, 0, 0, 0.15);\n",
              "      filter: drop-shadow(0px 1px 2px rgba(0, 0, 0, 0.3));\n",
              "      fill: #FFFFFF;\n",
              "    }\n",
              "  </style>\n",
              "\n",
              "      <script>\n",
              "        const buttonEl =\n",
              "          document.querySelector('#df-7f113bda-c4fe-456e-a685-1a96ba90b9d3 button.colab-df-convert');\n",
              "        buttonEl.style.display =\n",
              "          google.colab.kernel.accessAllowed ? 'block' : 'none';\n",
              "\n",
              "        async function convertToInteractive(key) {\n",
              "          const element = document.querySelector('#df-7f113bda-c4fe-456e-a685-1a96ba90b9d3');\n",
              "          const dataTable =\n",
              "            await google.colab.kernel.invokeFunction('convertToInteractive',\n",
              "                                                     [key], {});\n",
              "          if (!dataTable) return;\n",
              "\n",
              "          const docLinkHtml = 'Like what you see? Visit the ' +\n",
              "            '<a target=\"_blank\" href=https://colab.research.google.com/notebooks/data_table.ipynb>data table notebook</a>'\n",
              "            + ' to learn more about interactive tables.';\n",
              "          element.innerHTML = '';\n",
              "          dataTable['output_type'] = 'display_data';\n",
              "          await google.colab.output.renderOutput(dataTable, element);\n",
              "          const docLink = document.createElement('div');\n",
              "          docLink.innerHTML = docLinkHtml;\n",
              "          element.appendChild(docLink);\n",
              "        }\n",
              "      </script>\n",
              "    </div>\n",
              "  </div>\n",
              "  "
            ]
          },
          "metadata": {},
          "execution_count": 42
        }
      ]
    },
    {
      "cell_type": "markdown",
      "source": [
        "From the **data.info()** we can notice that the dataset has 10337 entries and consists of two columns: \"Text\" and \"Language\". Both columns are of type object and contain no missing values. The \"Text\" column contains the text data, while the \"Language\" column contains the language in which the text is written. The memory usage of the dataframe is 161.6 KB."
      ],
      "metadata": {
        "id": "IUkQy8hiqaKg"
      }
    },
    {
      "cell_type": "code",
      "source": [
        "print(\"Data info: \\n\")\n",
        "display(data.info())\n",
        "print(\"\\n\")\n",
        "print(\"Language column of the DataFrame: \\n\")\n",
        "display(data.Language)\n",
        "print(\"\\n\")\n",
        "print(\"Text column of the DataFrame: \\n\")\n",
        "display(data.Text)\n",
        "print(\"\\n\")\n",
        "print(\"Italian sentences: \\n\")\n",
        "italian_data = data[data[\"Language\"] == \"Italian\"]\n",
        "print(italian_data[\"Text\"])\n"
      ],
      "metadata": {
        "colab": {
          "base_uri": "https://localhost:8080/",
          "height": 1000
        },
        "id": "DZAngJ-Yo9X4",
        "outputId": "13fe062b-95a3-44b1-d8f0-b0fd8f86e10e"
      },
      "execution_count": 67,
      "outputs": [
        {
          "output_type": "stream",
          "name": "stdout",
          "text": [
            "Data info: \n",
            "\n",
            "<class 'pandas.core.frame.DataFrame'>\n",
            "RangeIndex: 10337 entries, 0 to 10336\n",
            "Data columns (total 2 columns):\n",
            " #   Column    Non-Null Count  Dtype \n",
            "---  ------    --------------  ----- \n",
            " 0   Text      10337 non-null  object\n",
            " 1   Language  10337 non-null  object\n",
            "dtypes: object(2)\n",
            "memory usage: 161.6+ KB\n"
          ]
        },
        {
          "output_type": "display_data",
          "data": {
            "text/plain": [
              "None"
            ]
          },
          "metadata": {}
        },
        {
          "output_type": "stream",
          "name": "stdout",
          "text": [
            "\n",
            "\n",
            "Language column of the DataFrame: \n",
            "\n"
          ]
        },
        {
          "output_type": "display_data",
          "data": {
            "text/plain": [
              "0        English\n",
              "1        English\n",
              "2        English\n",
              "3        English\n",
              "4        English\n",
              "          ...   \n",
              "10332    Kannada\n",
              "10333    Kannada\n",
              "10334    Kannada\n",
              "10335    Kannada\n",
              "10336    Kannada\n",
              "Name: Language, Length: 10337, dtype: object"
            ]
          },
          "metadata": {}
        },
        {
          "output_type": "stream",
          "name": "stdout",
          "text": [
            "\n",
            "\n",
            "Text column of the DataFrame: \n",
            "\n"
          ]
        },
        {
          "output_type": "display_data",
          "data": {
            "text/plain": [
              "0         Nature, in the broadest sense, is the natural...\n",
              "1        \"Nature\" can refer to the phenomena of the phy...\n",
              "2        The study of nature is a large, if not the onl...\n",
              "3        Although humans are part of nature, human acti...\n",
              "4        [1] The word nature is borrowed from the Old F...\n",
              "                               ...                        \n",
              "10332    ನಿಮ್ಮ ತಪ್ಪು ಏನು ಬಂದಿದೆಯೆಂದರೆ ಆ ದಿನದಿಂದ ನಿಮಗೆ ಒ...\n",
              "10333    ನಾರ್ಸಿಸಾ ತಾನು ಮೊದಲಿಗೆ ಹೆಣಗಾಡುತ್ತಿದ್ದ ಮಾರ್ಗಗಳನ್...\n",
              "10334    ಹೇಗೆ ' ನಾರ್ಸಿಸಿಸಮ್ ಈಗ ಮರಿಯನ್ ಅವರಿಗೆ ಸಂಭವಿಸಿದ ಎ...\n",
              "10335    ಅವಳು ಈಗ ಹೆಚ್ಚು ಚಿನ್ನದ ಬ್ರೆಡ್ ಬಯಸುವುದಿಲ್ಲ ಎಂದು ...\n",
              "10336    ಟೆರ್ರಿ ನೀವು ನಿಜವಾಗಿಯೂ ಆ ದೇವದೂತನಂತೆ ಸ್ವಲ್ಪ ಕಾಣು...\n",
              "Name: Text, Length: 10337, dtype: object"
            ]
          },
          "metadata": {}
        },
        {
          "output_type": "stream",
          "name": "stdout",
          "text": [
            "\n",
            "\n",
            "Italian sentences: \n",
            "\n",
            "7114    Nature è una delle più antiche ed importanti r...\n",
            "7115        [1] Viene pubblicata fin dal 4 novembre 1869.\n",
            "7116    [2] Nonostante la maggior parte delle riviste ...\n",
            "7117    Molti sono gli avanzamenti e le scoperte, prov...\n",
            "7118    Il fattore di impatto (impact factor) di quest...\n",
            "                              ...                        \n",
            "7807    qual è stato il tuo errore, ti diamo da mangia...\n",
            "7808    narcisa ha cambiato i suoi modi in un primo mo...\n",
            "7809    Come' Il narcisismo di adesso Marian ha detto ...\n",
            "7810    immagino che non vorrebbe più pane d'oro adess...\n",
            "7811    Terry in realtà assomigli un po 'a quell'angel...\n",
            "Name: Text, Length: 698, dtype: object\n"
          ]
        }
      ]
    },
    {
      "cell_type": "markdown",
      "source": [
        "The **data.describe()** shows that there are 10267 unique sentences in the dataset, and 17 unique languages. The most frequent language is English, with 1385 occurrences, and the most common sentence is \"Jag är ledsen\" (which means \"I am sorry\" in Swedish), occurring 3 times. These statistics can be helpful to get a quick overview of the dataset and understand some of its characteristics.\n"
      ],
      "metadata": {
        "id": "MdpA5G9WqqJk"
      }
    },
    {
      "cell_type": "code",
      "source": [
        "print(\"Data description: \\n\")\n",
        "print(data.describe())"
      ],
      "metadata": {
        "colab": {
          "base_uri": "https://localhost:8080/"
        },
        "id": "0gDcA-rtrvFl",
        "outputId": "9fe33558-1516-4251-eaa1-7a4387d42d51"
      },
      "execution_count": 33,
      "outputs": [
        {
          "output_type": "stream",
          "name": "stdout",
          "text": [
            "Data description: \n",
            "\n",
            "                  Text Language\n",
            "count            10337    10337\n",
            "unique           10267       17\n",
            "top     Jag är ledsen.  English\n",
            "freq                 3     1385\n"
          ]
        }
      ]
    },
    {
      "cell_type": "markdown",
      "source": [
        "**value_counts()** shows the distribution of languages present in the dataset.The counts of each language are displayed in descending order, with English being the most common language and Hindi being the least common. The counts indicate the number of entries in the dataset for each language, with some languages having significantly more entries than others. he count distribution suggests that there is an imbalance in the dataset, with Italian being one of the minority classes. This may affect the performance of the machine learning model since it may be biased towards the majority class. To address this issue, it may be necessary to balance the dataset by either oversampling the minority class, undersampling the majority class, or using a combination of both techniques."
      ],
      "metadata": {
        "id": "Z6ujBdjOrxoH"
      }
    },
    {
      "cell_type": "code",
      "source": [
        "print(\"Language counts: \\n\")\n",
        "display(data[\"Language\"].value_counts())\n",
        "data.Language.value_counts()[data.Language.unique()].plot.bar(title=\"Language detection dataset counts\",figsize=(8,4))"
      ],
      "metadata": {
        "colab": {
          "base_uri": "https://localhost:8080/",
          "height": 826
        },
        "id": "W-HWJIvPqqWH",
        "outputId": "4dfbf5ad-8335-4129-da91-46a378414d7b"
      },
      "execution_count": 35,
      "outputs": [
        {
          "output_type": "stream",
          "name": "stdout",
          "text": [
            "Language counts: \n",
            "\n"
          ]
        },
        {
          "output_type": "display_data",
          "data": {
            "text/plain": [
              "English       1385\n",
              "French        1014\n",
              "Spanish        819\n",
              "Portugeese     739\n",
              "Italian        698\n",
              "Russian        692\n",
              "Sweedish       676\n",
              "Malayalam      594\n",
              "Dutch          546\n",
              "Arabic         536\n",
              "Turkish        474\n",
              "German         470\n",
              "Tamil          469\n",
              "Danish         428\n",
              "Kannada        369\n",
              "Greek          365\n",
              "Hindi           63\n",
              "Name: Language, dtype: int64"
            ]
          },
          "metadata": {}
        },
        {
          "output_type": "execute_result",
          "data": {
            "text/plain": [
              "<Axes: title={'center': 'Language detection dataset counts'}>"
            ]
          },
          "metadata": {},
          "execution_count": 35
        },
        {
          "output_type": "display_data",
          "data": {
            "text/plain": [
              "<Figure size 800x400 with 1 Axes>"
            ],
            "image/png": "[encoded data removed]"
          },
          "metadata": {}
        }
      ]
    },
    {
      "cell_type": "markdown",
      "source": [
        "We can notice that there are two mispelled languages: \"Portugeese\" and \"Sweedish\", which need to be corrected."
      ],
      "metadata": {
        "id": "cB4enHsAr6Si"
      }
    },
    {
      "cell_type": "code",
      "source": [
        "data.Language.replace(to_replace=[\"Portugeese\", \"Sweedish\"],value=[\"Portugese\",\"Swedish\"],inplace=True)"
      ],
      "metadata": {
        "id": "btfHSb7gsEPq"
      },
      "execution_count": 4,
      "outputs": []
    },
    {
      "cell_type": "markdown",
      "source": [
        "### Data preparation\n",
        "We use a lambda function to map \"Italian\" class to 1, and any other language to 0."
      ],
      "metadata": {
        "id": "WQ3BP3xusHKX"
      }
    },
    {
      "cell_type": "code",
      "source": [
        "lang_map = lambda x: 1 if x == 'Italian' else 0\n",
        "data[\"Language\"] = data[\"Language\"].apply(lang_map)\n",
        "data.head()"
      ],
      "metadata": {
        "colab": {
          "base_uri": "https://localhost:8080/",
          "height": 206
        },
        "id": "iMSuPdNssX2x",
        "outputId": "cb9d8356-1755-4fad-9dd1-72df1a6da84c"
      },
      "execution_count": 5,
      "outputs": [
        {
          "output_type": "execute_result",
          "data": {
            "text/plain": [
              "                                                Text  Language\n",
              "0   Nature, in the broadest sense, is the natural...         0\n",
              "1  \"Nature\" can refer to the phenomena of the phy...         0\n",
              "2  The study of nature is a large, if not the onl...         0\n",
              "3  Although humans are part of nature, human acti...         0\n",
              "4  [1] The word nature is borrowed from the Old F...         0"
            ],
            "text/html": [
              "\n",
              "  <div id=\"df-e79649a2-17b1-4434-a516-8447c9e18985\">\n",
              "    <div class=\"colab-df-container\">\n",
              "      <div>\n",
              "<style scoped>\n",
              "    .dataframe tbody tr th:only-of-type {\n",
              "        vertical-align: middle;\n",
              "    }\n",
              "\n",
              "    .dataframe tbody tr th {\n",
              "        vertical-align: top;\n",
              "    }\n",
              "\n",
              "    .dataframe thead th {\n",
              "        text-align: right;\n",
              "    }\n",
              "</style>\n",
              "<table border=\"1\" class=\"dataframe\">\n",
              "  <thead>\n",
              "    <tr style=\"text-align: right;\">\n",
              "      <th></th>\n",
              "      <th>Text</th>\n",
              "      <th>Language</th>\n",
              "    </tr>\n",
              "  </thead>\n",
              "  <tbody>\n",
              "    <tr>\n",
              "      <th>0</th>\n",
              "      <td>Nature, in the broadest sense, is the natural...</td>\n",
              "      <td>0</td>\n",
              "    </tr>\n",
              "    <tr>\n",
              "      <th>1</th>\n",
              "      <td>\"Nature\" can refer to the phenomena of the phy...</td>\n",
              "      <td>0</td>\n",
              "    </tr>\n",
              "    <tr>\n",
              "      <th>2</th>\n",
              "      <td>The study of nature is a large, if not the onl...</td>\n",
              "      <td>0</td>\n",
              "    </tr>\n",
              "    <tr>\n",
              "      <th>3</th>\n",
              "      <td>Although humans are part of nature, human acti...</td>\n",
              "      <td>0</td>\n",
              "    </tr>\n",
              "    <tr>\n",
              "      <th>4</th>\n",
              "      <td>[1] The word nature is borrowed from the Old F...</td>\n",
              "      <td>0</td>\n",
              "    </tr>\n",
              "  </tbody>\n",
              "</table>\n",
              "</div>\n",
              "      <button class=\"colab-df-convert\" onclick=\"convertToInteractive('df-e79649a2-17b1-4434-a516-8447c9e18985')\"\n",
              "              title=\"Convert this dataframe to an interactive table.\"\n",
              "              style=\"display:none;\">\n",
              "        \n",
              "  <svg xmlns=\"http://www.w3.org/2000/svg\" height=\"24px\"viewBox=\"0 0 24 24\"\n",
              "       width=\"24px\">\n",
              "    <path d=\"M0 0h24v24H0V0z\" fill=\"none\"/>\n",
              "    <path d=\"M18.56 5.44l.94 2.06.94-2.06 2.06-.94-2.06-.94-.94-2.06-.94 2.06-2.06.94zm-11 1L8.5 8.5l.94-2.06 2.06-.94-2.06-.94L8.5 2.5l-.94 2.06-2.06.94zm10 10l.94 2.06.94-2.06 2.06-.94-2.06-.94-.94-2.06-.94 2.06-2.06.94z\"/><path d=\"M17.41 7.96l-1.37-1.37c-.4-.4-.92-.59-1.43-.59-.52 0-1.04.2-1.43.59L10.3 9.45l-7.72 7.72c-.78.78-.78 2.05 0 2.83L4 21.41c.39.39.9.59 1.41.59.51 0 1.02-.2 1.41-.59l7.78-7.78 2.81-2.81c.8-.78.8-2.07 0-2.86zM5.41 20L4 18.59l7.72-7.72 1.47 1.35L5.41 20z\"/>\n",
              "  </svg>\n",
              "      </button>\n",
              "      \n",
              "  <style>\n",
              "    .colab-df-container {\n",
              "      display:flex;\n",
              "      flex-wrap:wrap;\n",
              "      gap: 12px;\n",
              "    }\n",
              "\n",
              "    .colab-df-convert {\n",
              "      background-color: #E8F0FE;\n",
              "      border: none;\n",
              "      border-radius: 50%;\n",
              "      cursor: pointer;\n",
              "      display: none;\n",
              "      fill: #1967D2;\n",
              "      height: 32px;\n",
              "      padding: 0 0 0 0;\n",
              "      width: 32px;\n",
              "    }\n",
              "\n",
              "    .colab-df-convert:hover {\n",
              "      background-color: #E2EBFA;\n",
              "      box-shadow: 0px 1px 2px rgba(60, 64, 67, 0.3), 0px 1px 3px 1px rgba(60, 64, 67, 0.15);\n",
              "      fill: #174EA6;\n",
              "    }\n",
              "\n",
              "    [theme=dark] .colab-df-convert {\n",
              "      background-color: #3B4455;\n",
              "      fill: #D2E3FC;\n",
              "    }\n",
              "\n",
              "    [theme=dark] .colab-df-convert:hover {\n",
              "      background-color: #434B5C;\n",
              "      box-shadow: 0px 1px 3px 1px rgba(0, 0, 0, 0.15);\n",
              "      filter: drop-shadow(0px 1px 2px rgba(0, 0, 0, 0.3));\n",
              "      fill: #FFFFFF;\n",
              "    }\n",
              "  </style>\n",
              "\n",
              "      <script>\n",
              "        const buttonEl =\n",
              "          document.querySelector('#df-e79649a2-17b1-4434-a516-8447c9e18985 button.colab-df-convert');\n",
              "        buttonEl.style.display =\n",
              "          google.colab.kernel.accessAllowed ? 'block' : 'none';\n",
              "\n",
              "        async function convertToInteractive(key) {\n",
              "          const element = document.querySelector('#df-e79649a2-17b1-4434-a516-8447c9e18985');\n",
              "          const dataTable =\n",
              "            await google.colab.kernel.invokeFunction('convertToInteractive',\n",
              "                                                     [key], {});\n",
              "          if (!dataTable) return;\n",
              "\n",
              "          const docLinkHtml = 'Like what you see? Visit the ' +\n",
              "            '<a target=\"_blank\" href=https://colab.research.google.com/notebooks/data_table.ipynb>data table notebook</a>'\n",
              "            + ' to learn more about interactive tables.';\n",
              "          element.innerHTML = '';\n",
              "          dataTable['output_type'] = 'display_data';\n",
              "          await google.colab.output.renderOutput(dataTable, element);\n",
              "          const docLink = document.createElement('div');\n",
              "          docLink.innerHTML = docLinkHtml;\n",
              "          element.appendChild(docLink);\n",
              "        }\n",
              "      </script>\n",
              "    </div>\n",
              "  </div>\n",
              "  "
            ]
          },
          "metadata": {},
          "execution_count": 5
        }
      ]
    },
    {
      "cell_type": "markdown",
      "source": [
        "Prepare the labels and the data to be split in training and test sets."
      ],
      "metadata": {
        "id": "9BG31W76sqIi"
      }
    },
    {
      "cell_type": "code",
      "source": [
        "X_text_data = data[\"Text\"]\n",
        "print(X_text_data.shape)\n",
        "\n",
        "Y = list(data[\"Language\"])\n",
        "print(len(Y))"
      ],
      "metadata": {
        "colab": {
          "base_uri": "https://localhost:8080/"
        },
        "id": "7pSvbys-stPh",
        "outputId": "5f94ed32-c671-4356-ad1a-6069e6d3038f"
      },
      "execution_count": 6,
      "outputs": [
        {
          "output_type": "stream",
          "name": "stdout",
          "text": [
            "(10337,)\n",
            "10337\n"
          ]
        }
      ]
    },
    {
      "cell_type": "markdown",
      "source": [
        "### Data cleaning\n",
        "To improve accuracy of the language detection model, we need to clean our raw text data. The following regex-based text cleaning operations include removing special characters, symbols, numbers, URLs, HTML tags, and extra spaces. Additionally, the texts are converted to lowercase."
      ],
      "metadata": {
        "id": "8csVqhGWs_1X"
      }
    },
    {
      "cell_type": "code",
      "source": [
        "def clean_text(data): \n",
        "    data_text_list = []\n",
        "    for text in data:\n",
        "        text = re.sub(r'[\\.!@#$(),\\n\"%^*?\\+\\-\\':;~`0-9\\=\\[\\]]', ' ', text) # removing special characters, symbols and numbers\n",
        "        text = re.sub(r'http[s]?\\://\\S+|www\\.\\S+', ' ', text) # removing URLs\n",
        "        text = re.sub(r'<.*?>', ' ', text) # removing html tags\n",
        "        text = re.sub(r'\\s+',\" \", text) # removing extra large spaces\n",
        "        text = text.lower() # lower case\n",
        "        data_text_list.append(text)\n",
        "    return data_text_list\n"
      ],
      "metadata": {
        "id": "CtYMMidXv2Cp"
      },
      "execution_count": 7,
      "outputs": []
    },
    {
      "cell_type": "code",
      "source": [
        "clean_data_list = clean_text(X_text_data)\n",
        "X_text_data = clean_data_list\n",
        "print(clean_data_list[7117])\n",
        "print(\"Number of sentences: \", len(X_text_data))"
      ],
      "metadata": {
        "colab": {
          "base_uri": "https://localhost:8080/"
        },
        "id": "hSPhWfiywByj",
        "outputId": "c7841871-04e6-42d3-e6c4-c3df1d6213a1"
      },
      "execution_count": 8,
      "outputs": [
        {
          "output_type": "stream",
          "name": "stdout",
          "text": [
            "molti sono gli avanzamenti e le scoperte provenienti da molti campi della ricerca scientifica che sono stati pubblicati su nature come articoli o lettere ad esempio la scoperta dei raggi x la natura ondulatoria delle particelle la scoperta dei neutroni le scoperte sulla fissione nucleare la struttura a doppia elica del dna la prima struttura molecolare di una proteina la mioglobina la tettonica a zolle il buco dell ozono la prima clonazione di un mammifero la pecora dolly il sequenziamento del genoma umano \n",
            "Number of sentences:  10337\n"
          ]
        }
      ]
    },
    {
      "cell_type": "markdown",
      "source": [
        "### Train and test split"
      ],
      "metadata": {
        "id": "Hgrh_r1jyb5W"
      }
    },
    {
      "cell_type": "code",
      "source": [
        "X_train, X_test, Y_train, Y_test = train_test_split(X_text_data, Y, test_size = 0.20, random_state=42)"
      ],
      "metadata": {
        "id": "sfisu5R_ywJT"
      },
      "execution_count": 9,
      "outputs": []
    },
    {
      "cell_type": "markdown",
      "source": [
        "### Model selection\n",
        "We can build our machine learning model for the binary language detection task by performing a grid search among different ML algorithms.\n",
        "The main algorithms suitable for this task are the following:\n",
        "\n",
        "\n",
        "*   Multinomial Naive Bayes Classifier\n",
        "*   Support Vector Machines (SVM)\n",
        "*   Random Forest Classifier\n",
        "*   SGD Classifier\n",
        "*   Logistic Regression\n",
        "*   KNN\n",
        "\n",
        "Since the dataset is highly imbalanced, we can set `class_weights='balanced'` for SVC and Random Forest classifier. \n",
        "\n",
        "In a similar way, we can provide MultinomialNB with `fit_prior=True` and `class_prior=[0.5,0.5]`. In fact, if we use a Naive Bayes classifier with `fit_prior=True` (which is the default), the classifier will estimate the class priors from the data. Since the data is imbalanced, the estimated class priors will be biased towards the majority class. This means that the classifier will assign a higher weight to class 0 during training, even if the features are more predictive of class 1. As a result, the classifier may have lower accuracy and higher false negative rate (i.e., it may incorrectly classify class 1 instances as class 0) for the minority class.\n",
        "To address this issue, we can set the `class_prior` parameter explicitly to balance the class distribution\n",
        "\n"
      ],
      "metadata": {
        "id": "DZTVo38zyzR7"
      }
    },
    {
      "cell_type": "code",
      "source": [
        "# Define the parameter grids for each algorithm\n",
        "pipeline_estimators = Pipeline([\n",
        "        ('vectorizer', None),\n",
        "        ('estimator', None)\n",
        "    ])\n",
        "\n",
        "param_grids = [\n",
        "    {\n",
        "    'estimator': [SVC(class_weight='balanced')],\n",
        "        'vectorizer': [TfidfVectorizer(), CountVectorizer()],\n",
        "        'estimator__kernel': ['linear', 'rbf'],\n",
        "        'estimator__C': [0.1, 1, 10]\n",
        "    },\n",
        "    {\n",
        "    'estimator': [MultinomialNB(fit_prior=True,class_prior=[0.5, 0.5])],\n",
        "        'vectorizer': [TfidfVectorizer(), CountVectorizer()],\n",
        "        'estimator__alpha': [0.1, 1, 10]\n",
        "    },\n",
        "    {\n",
        "    'estimator': [RandomForestClassifier(class_weight='balanced')],\n",
        "        'vectorizer': [TfidfVectorizer(), CountVectorizer()],\n",
        "        'estimator__n_estimators': [50, 100],\n",
        "        'estimator__max_depth': [None, 10, 20]\n",
        "    },\n",
        "    {\n",
        "    'estimator': [SGDClassifier()],\n",
        "        'vectorizer': [TfidfVectorizer(), CountVectorizer()],\n",
        "        'estimator__alpha': [0.001, 0.01, 0.1],\n",
        "        'estimator__loss': ['hinge', 'log']\n",
        "    }\n",
        "]\n",
        "\n",
        "# Train and evaluate each algorithm using grid search\n",
        "grid_search = GridSearchCV(pipeline_estimators, param_grids, cv=5, n_jobs=-1, scoring='f1')\n",
        "grid_search.fit(X_train, Y_train)\n",
        "# Print the best parameters and the accuracy on the validation set\n",
        "print(f\"Best parameters: \", grid_search.best_params_)\n",
        "print(f\"Best score: \", grid_search.best_score_)\n",
        "best_model = grid_search.best_estimator_\n",
        "print(\"Best estmator: \", best_model)\n",
        "y_pred = grid_search.predict(X_test)\n",
        "\n",
        "accuracy = accuracy_score(Y_test, y_pred)\n",
        "accuracy_best_estimator = accuracy_score(Y_test, y_pred)\n",
        "\n",
        "print(f\"Accuracy grid search: {accuracy:.5f}\\n\")\n",
        "print(f\"Accuracy best estimator: {accuracy_best_estimator:.5f}\\n\")"
      ],
      "metadata": {
        "colab": {
          "base_uri": "https://localhost:8080/"
        },
        "id": "Enz0yPAi9uS6",
        "outputId": "733e90cf-55a8-4b0b-acf4-22c771cd018c"
      },
      "execution_count": 10,
      "outputs": [
        {
          "output_type": "stream",
          "name": "stdout",
          "text": [
            "Best parameters:  {'estimator': MultinomialNB(alpha=0.1, class_prior=[0.5, 0.5]), 'estimator__alpha': 0.1, 'vectorizer': CountVectorizer()}\n",
            "Best score:  0.9713728211129032\n",
            "Best estmator:  Pipeline(steps=[('vectorizer', CountVectorizer()),\n",
            "                ('estimator',\n",
            "                 MultinomialNB(alpha=0.1, class_prior=[0.5, 0.5]))])\n",
            "Accuracy grid search: 0.99758\n",
            "\n",
            "Accuracy best estimator: 0.99758\n",
            "\n"
          ]
        }
      ]
    },
    {
      "cell_type": "markdown",
      "source": [
        "### Results\n",
        "Confusion matrix, report and ROC AUC\n"
      ],
      "metadata": {
        "id": "cX4bv_UlADU0"
      }
    },
    {
      "cell_type": "code",
      "source": [
        "def plot_CM(Y_test, y_pred, estimator):\n",
        "    class_names = ['Not Italian','Italian']\n",
        "    cm = confusion_matrix(Y_test, y_pred)\n",
        "    \n",
        "    # create a heatmap of the confusion matrix\n",
        "    fig, ax = plt.subplots(figsize=(8, 6))\n",
        "    sns.heatmap(cm, annot=True, cmap=\"Blues\", fmt='d', xticklabels=class_names, yticklabels=class_names, ax=ax)\n",
        "\n",
        "    # set the axis labels and title\n",
        "    ax.set_xlabel('Predicted Labels')\n",
        "    ax.set_ylabel('True Labels')\n",
        "    \n",
        "    # get the name of the estimator\n",
        "    estimator_name = type(estimator.named_steps['estimator']).__name__\n",
        "    print(estimator_name)\n",
        "    if estimator_name == 'MultinomialNB':\n",
        "        estimator_name = 'Multinomial Naive Bayes'\n",
        "    elif estimator_name == 'SVC':\n",
        "        estimator_name = 'Support Vector Machine'\n",
        "    elif estimator_name == 'RandomForestClassifier':\n",
        "        estimator_name = 'Random Forest'\n",
        "    elif estimator_name == 'SGDClassifier':\n",
        "        estimator_name = 'Stochastic Gradient Descent'\n",
        "    elif estimator_name == 'LogReg':\n",
        "        estimator_name = 'Logistic Regression'\n",
        "\n",
        "    ax.set_title('Confusion Matrix for ' + estimator_name)\n",
        "\n",
        "    # show the plot\n",
        "    plt.show()\n",
        "\n",
        "    \n",
        "def plot_roc_auc(y_true, y_pred):\n",
        "    # Compute ROC curve and ROC area for each class\n",
        "    fpr, tpr, _ = roc_curve(y_true, y_pred)\n",
        "    roc_auc = auc(fpr, tpr)\n",
        "\n",
        "    # Plot ROC curve\n",
        "    plt.figure(figsize=(8, 6))\n",
        "    plt.plot(fpr, tpr, color='darkorange', lw=2, label='ROC curve (AUC = %0.2f)' % roc_auc)\n",
        "    plt.plot([0, 1], [0, 1], color='navy', lw=2, linestyle='--')\n",
        "    plt.xlim([0.0, 1.0])\n",
        "    plt.ylim([0.0, 1.05])\n",
        "    plt.xlabel('False Positive Rate')\n",
        "    plt.ylabel('True Positive Rate')\n",
        "    plt.title('Receiver operating characteristic')\n",
        "    plt.legend(loc=\"lower right\")\n",
        "    plt.show()"
      ],
      "metadata": {
        "id": "y3em0F3cAYen"
      },
      "execution_count": 11,
      "outputs": []
    },
    {
      "cell_type": "code",
      "source": [
        "plot_CM(Y_test, y_pred, best_model)\n",
        "plot_roc_auc(Y_test, y_pred)\n"
      ],
      "metadata": {
        "colab": {
          "base_uri": "https://localhost:8080/",
          "height": 1000
        },
        "id": "G5nlwsnpBN4h",
        "outputId": "5aedf980-4f11-4257-c54b-4e4c04a74484"
      },
      "execution_count": 18,
      "outputs": [
        {
          "output_type": "stream",
          "name": "stdout",
          "text": [
            "MultinomialNB\n"
          ]
        },
        {
          "output_type": "display_data",
          "data": {
            "text/plain": [
              "<Figure size 800x600 with 2 Axes>"
            ],
            "image/png": "[encoded data removed]"
          },
          "metadata": {}
        },
        {
          "output_type": "display_data",
          "data": {
            "text/plain": [
              "<Figure size 800x600 with 1 Axes>"
            ],
            "image/png": "[encoded data removed]"
          },
          "metadata": {}
        }
      ]
    },
    {
      "cell_type": "code",
      "source": [
        "save_path = '/content/drive/My Drive/Datasets/Models-LanguageDetection'\n",
        "\n",
        "now = datetime.datetime.now()\n",
        "date_time = now.strftime(\"%Y-%m-%d_%H-%M-%S\")\n",
        "estimator_name = type(best_model.named_steps['estimator']).__name__\n",
        "save_file_path = save_path + estimator_name + '_' + date_time + '.pkl'\n",
        "with open(save_file_path, 'wb') as file:\n",
        "    pickle.dump(grid_search.best_estimator_, file)"
      ],
      "metadata": {
        "id": "Gxduluxv6dvZ"
      },
      "execution_count": null,
      "outputs": []
    }
  ]
}